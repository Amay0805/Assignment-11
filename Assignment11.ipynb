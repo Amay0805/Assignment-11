{
 "cells": [
  {
   "cell_type": "code",
   "execution_count": null,
   "id": "efc9d33e-6fe2-4cfb-9b0f-b000e8173353",
   "metadata": {},
   "outputs": [],
   "source": [
    "#1\n",
    "#We have not been taught Java programing language\n",
    "#So I don't know the concepts of java programing language"
   ]
  },
  {
   "cell_type": "code",
   "execution_count": 2,
   "id": "d68bbbf9-5857-48fd-a3a5-d704ac7d2964",
   "metadata": {},
   "outputs": [
    {
     "name": "stdout",
     "output_type": "stream",
     "text": [
      "final result: 3\n",
      "final result: 3\n"
     ]
    }
   ],
   "source": [
    "#2\n",
    "#without recursion\n",
    "def minDistance(word1, word2,m=None,n=None):\n",
    "    if m is None and n is None:\n",
    "        m,n=len(word1),len(word2)\n",
    "    mat=[[0]*(n+1) for v in range(m+1)]\n",
    "    for i in range(m+1):\n",
    "        for j in range(n+1):\n",
    "            if i==0:\n",
    "                mat[i][j]=j\n",
    "            elif j==0:\n",
    "                mat[i][j]=i\n",
    "            elif word1[i-1]==word2[j-1]:\n",
    "                mat[i][j]=mat[i-1][j-1]\n",
    "            else:\n",
    "                mat[i][j]=1+min(mat[i][j-1],mat[i-1][j],mat[i-1][j-1])\n",
    "    return mat[m][n]\n",
    "\n",
    "# Example\n",
    "word1 = \"horse\"\n",
    "word2 = \"ros\"\n",
    "result = minDistance(word1, word2)\n",
    "print(\"final result:\",result)\n",
    "\n",
    "\n",
    "#2\n",
    "#with recursion\n",
    "def minDistance(word1, word2,m=None,n=None):\n",
    "    if m is None and n is None:\n",
    "        m,n=len(word1),len(word2)\n",
    "    mat=[[0]*(n+1) for v in range(m+1)]\n",
    "    if m==0:\n",
    "        return n\n",
    "    elif n==0:\n",
    "        return m\n",
    "    elif word1[m-1]==word2[n-1]:\n",
    "        return minDistance(word1,word2,m-1,n-1)\n",
    "    else:\n",
    "        return 1+min(minDistance(word1,word2,m,n-1),minDistance(word1,word2,m-1,n-1),minDistance(word1,word2,m-1,n))\n",
    "\n",
    "# Example\n",
    "word1 = \"horse\"\n",
    "word2 = \"ros\"\n",
    "result = minDistance(word1, word2)\n",
    "print(\"final result:\",result)"
   ]
  },
  {
   "cell_type": "code",
   "execution_count": 3,
   "id": "a268e878-ac10-4b9c-9090-0ff5794fbf37",
   "metadata": {},
   "outputs": [
    {
     "name": "stdout",
     "output_type": "stream",
     "text": [
      "22\n"
     ]
    }
   ],
   "source": [
    "#3\n",
    "def user_max(arr,start=None,end=None):\n",
    "    if start is None and end is None:\n",
    "        start=0\n",
    "        end=len(arr)-1\n",
    "    if start==end:\n",
    "        return arr[end]\n",
    "    elif arr[start]>=arr[end]:\n",
    "        return user_max(arr,0,end-1)\n",
    "    else:\n",
    "        return user_max(arr,start+1,end)\n",
    "    \n",
    "print(user_max([13,1,-3,22,5]))"
   ]
  },
  {
   "cell_type": "code",
   "execution_count": 4,
   "id": "fdeb7194-a906-4e39-a29a-d497fc8bdc17",
   "metadata": {},
   "outputs": [
    {
     "name": "stdout",
     "output_type": "stream",
     "text": [
      "36\n"
     ]
    }
   ],
   "source": [
    "#4\n",
    "def user_sum(arr,start=None,end=None):\n",
    "    if start==None:\n",
    "        start=0\n",
    "    if start==len(arr):\n",
    "        return 0\n",
    "    else:\n",
    "        return arr[start]+user_sum(arr,start+1)\n",
    "\n",
    "print(user_sum([1,2,3,4,5,6,5,4,3,2,1]))"
   ]
  },
  {
   "cell_type": "code",
   "execution_count": 5,
   "id": "cbec4c8c-69fe-4db6-b82a-3bc5f19470d1",
   "metadata": {},
   "outputs": [
    {
     "name": "stdout",
     "output_type": "stream",
     "text": [
      "True\n"
     ]
    }
   ],
   "source": [
    "#5\n",
    "def countdigit(n):\n",
    "    if n>0 and n<10:\n",
    "        return 1\n",
    "    else:\n",
    "        return 1+countdigit(n//10)\n",
    "\n",
    "def check_armstrong(number):\n",
    "    def armstrong(num,n=None):\n",
    "        if n==None:\n",
    "            n=countdigit(num)\n",
    "        if num>0 and num<10:\n",
    "            return num**n\n",
    "        else:\n",
    "            return (num%10)**n+armstrong(num//10,n)\n",
    "    if number==armstrong(number):\n",
    "        return True\n",
    "    else:\n",
    "        return False\n",
    "    \n",
    "print(check_armstrong(1))"
   ]
  }
 ],
 "metadata": {
  "kernelspec": {
   "display_name": "Python 3 (ipykernel)",
   "language": "python",
   "name": "python3"
  },
  "language_info": {
   "codemirror_mode": {
    "name": "ipython",
    "version": 3
   },
   "file_extension": ".py",
   "mimetype": "text/x-python",
   "name": "python",
   "nbconvert_exporter": "python",
   "pygments_lexer": "ipython3",
   "version": "3.10.8"
  }
 },
 "nbformat": 4,
 "nbformat_minor": 5
}
